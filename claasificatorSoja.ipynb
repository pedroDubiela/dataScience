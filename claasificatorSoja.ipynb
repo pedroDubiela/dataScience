{
 "cells": [
  {
   "cell_type": "code",
   "execution_count": 1,
   "id": "3a413212-25dc-4d9f-81a3-d696f27ddc68",
   "metadata": {},
   "outputs": [],
   "source": [
    "# Manipulação e análise exploratória:\n",
    "import pandas as pd\n",
    "import numpy as np\n",
    "import statistics as sts\n",
    "\n",
    "# Codificação dos atributos categóricos:\n",
    "from sklearn.preprocessing import LabelEncoder, OneHotEncoder\n",
    "from keras.utils import np_utils\n",
    "from sklearn.compose import make_column_transformer\n",
    "\n",
    "# Dividir os dados entre treino e teste:\n",
    "from sklearn.model_selection import train_test_split\n",
    "\n",
    "# Modelos:\n",
    "# NaiveBayes:\n",
    "from sklearn.naive_bayes import GaussianNB\n",
    "\n",
    "# Árvores de Decisão:\n",
    "from sklearn.tree import DecisionTreeClassifier\n",
    "\n",
    "# Support Vector Machine:\n",
    "from sklearn.svm import SVC\n",
    "\n",
    "# RandomForest:\n",
    "from sklearn.ensemble import RandomForestClassifier\n",
    "\n",
    "# KNN:\n",
    "from sklearn.neighbors import KNeighborsClassifier\n",
    "\n",
    "# Rede Neural: Perceptron Multicamadas\n",
    "from keras.models import Sequential\n",
    "from keras.layers import Dense\n",
    "\n",
    "# Métrica de desempenho:\n",
    "from sklearn.metrics import confusion_matrix, accuracy_score\n",
    "\n",
    "# Gráficos:\n",
    "import matplotlib.pyplot as plt"
   ]
  },
  {
   "cell_type": "markdown",
   "id": "629c60c7-5e2c-4666-b166-0e94aac61943",
   "metadata": {},
   "source": [
    "# Carregamento e Limpeza:"
   ]
  },
  {
   "cell_type": "code",
   "execution_count": 2,
   "id": "3352a494-5e07-4903-84dd-adb2fd015189",
   "metadata": {},
   "outputs": [],
   "source": [
    "df = pd.read_csv(\"soybean.csv\")"
   ]
  },
  {
   "cell_type": "code",
   "execution_count": 3,
   "id": "886dc364-2165-4322-90d3-e1e28d3e9727",
   "metadata": {},
   "outputs": [
    {
     "data": {
      "text/plain": [
       "19"
      ]
     },
     "execution_count": 3,
     "metadata": {},
     "output_type": "execute_result"
    }
   ],
   "source": [
    "df.iloc[:,35].value_counts().count()"
   ]
  },
  {
   "cell_type": "code",
   "execution_count": 4,
   "id": "7b78cbd2-9888-4139-92fe-25857c6b78d9",
   "metadata": {},
   "outputs": [
    {
     "data": {
      "text/plain": [
       "1913"
      ]
     },
     "execution_count": 4,
     "metadata": {},
     "output_type": "execute_result"
    }
   ],
   "source": [
    "#Dados Nulos:\n",
    "df.isnull().sum()\n",
    "\n",
    "#Dados Duplicados:\n",
    "df = df.drop_duplicates()\n",
    "\n",
    "#Valores =  ?:\n",
    "df[df == \"?\"].count().sum()"
   ]
  },
  {
   "cell_type": "code",
   "execution_count": 5,
   "id": "203ce983-4712-43b6-b016-69ba8773781a",
   "metadata": {},
   "outputs": [],
   "source": [
    "#Valores =  ?, troquei pela Moda:\n",
    "atributos = df.columns\n",
    "modas = []\n",
    "i = 0\n",
    "for item in atributos:\n",
    "    modas.append(sts.mode(df.loc[~(df[item] == \"?\"), item]))\n",
    "    df.loc[df[item] == \"?\",item] = modas[i]\n",
    "    i+=1"
   ]
  },
  {
   "cell_type": "code",
   "execution_count": 6,
   "id": "e2bde8fa-9966-4c13-b00b-1d95a034516b",
   "metadata": {},
   "outputs": [
    {
     "data": {
      "text/plain": [
       "alternarialeaf-spot            88\n",
       "frog-eye-leaf-spot             81\n",
       "brown-spot                     77\n",
       "phytophthora-rot               71\n",
       "anthracnose                    44\n",
       "brown-stem-rot                 42\n",
       "purple-seed-stain              20\n",
       "powdery-mildew                 20\n",
       "bacterial-blight               20\n",
       "bacterial-pustule              20\n",
       "downy-mildew                   20\n",
       "phyllosticta-leaf-spot         20\n",
       "charcoal-rot                   20\n",
       "rhizoctonia-root-rot           20\n",
       "diaporthe-stem-canker          20\n",
       "2-4-d-injury                   16\n",
       "diaporthe-pod-&-stem-blight    14\n",
       "cyst-nematode                  10\n",
       "herbicide-injury                8\n",
       "Name: class, dtype: int64"
      ]
     },
     "execution_count": 6,
     "metadata": {},
     "output_type": "execute_result"
    }
   ],
   "source": [
    "df.iloc[:,35].value_counts().sort_values(ascending=False)"
   ]
  },
  {
   "cell_type": "code",
   "execution_count": 7,
   "id": "b66e323c-0d96-49f6-9910-f15aa2e931a5",
   "metadata": {},
   "outputs": [
    {
     "name": "stdout",
     "output_type": "stream",
     "text": [
      "['october' 'august' 'july' 'september' 'may' 'april' 'june']\n",
      "\n",
      "['normal' 'lt-normal']\n",
      "\n",
      "['gt-norm' 'lt-norm' 'norm']\n",
      "\n",
      "['norm' 'gt-norm' 'lt-norm']\n",
      "\n",
      "['yes' 'no']\n",
      "\n",
      "['same-lst-yr' 'same-lst-two-yrs' 'same-lst-sev-yrs' 'diff-lst-year']\n",
      "\n",
      "['low-areas' 'scattered' 'whole-field' 'upper-areas']\n",
      "\n",
      "['pot-severe' 'severe' 'minor']\n",
      "\n",
      "['none' 'fungicide' 'other']\n",
      "\n",
      "['90-100' '80-89' 'lt-80']\n",
      "\n",
      "['abnorm' 'norm']\n",
      "\n",
      "['abnorm' 'norm']\n",
      "\n",
      "['absent' 'no-yellow-halos' 'yellow-halos']\n",
      "\n",
      "['dna' 'w-s-marg' 'no-w-s-marg']\n",
      "\n",
      "['dna' 'gt-1/8' 'lt-1/8']\n",
      "\n",
      "['absent' 'present']\n",
      "\n",
      "['absent' 'present']\n",
      "\n",
      "['absent' 'upper-surf' 'lower-surf']\n",
      "\n",
      "['abnorm' 'norm']\n",
      "\n",
      "['no' 'yes']\n",
      "\n",
      "['above-sec-nde' 'absent' 'below-soil' 'above-soil']\n",
      "\n",
      "['brown' 'dna' 'tan' 'dk-brown-blk']\n",
      "\n",
      "['present' 'absent']\n",
      "\n",
      "['firm-and-dry' 'absent' 'watery']\n",
      "\n",
      "['absent' 'present']\n",
      "\n",
      "['none' 'black' 'brown']\n",
      "\n",
      "['absent' 'present']\n",
      "\n",
      "['norm' 'dna' 'diseased' 'few-present']\n",
      "\n",
      "['dna' 'absent' 'colored' 'brown-w/blk-specks']\n",
      "\n",
      "['norm' 'abnorm']\n",
      "\n",
      "['absent' 'present']\n",
      "\n",
      "['absent' 'present']\n",
      "\n",
      "['norm' 'lt-norm']\n",
      "\n",
      "['absent' 'present']\n",
      "\n",
      "['norm' 'rotted' 'galls-cysts']\n",
      "\n",
      "['diaporthe-stem-canker' 'charcoal-rot' 'rhizoctonia-root-rot'\n",
      " 'phytophthora-rot' 'brown-stem-rot' 'powdery-mildew' 'downy-mildew'\n",
      " 'brown-spot' 'bacterial-blight' 'bacterial-pustule' 'purple-seed-stain'\n",
      " 'anthracnose' 'phyllosticta-leaf-spot' 'alternarialeaf-spot'\n",
      " 'frog-eye-leaf-spot' 'diaporthe-pod-&-stem-blight' 'cyst-nematode'\n",
      " '2-4-d-injury' 'herbicide-injury']\n",
      "\n"
     ]
    }
   ],
   "source": [
    "for item in atributos:\n",
    "    print(df[item].unique())\n",
    "    print(\"\")"
   ]
  },
  {
   "cell_type": "markdown",
   "id": "ecf76367-1860-45fb-b4c2-9bfd884a3e1f",
   "metadata": {},
   "source": [
    "# Modelagem dos Dados:"
   ]
  },
  {
   "cell_type": "markdown",
   "id": "0d121789-8d85-48e9-8c03-144dccba0630",
   "metadata": {},
   "source": [
    "## Atributos:"
   ]
  },
  {
   "cell_type": "code",
   "execution_count": 8,
   "id": "96f35e2f-b0c9-46ea-b356-382b624860b3",
   "metadata": {},
   "outputs": [],
   "source": [
    "# Carregamento dos atributos:\n",
    "x = df.iloc[:,0:35].values\n",
    "y = df.iloc[:,35].values"
   ]
  },
  {
   "cell_type": "markdown",
   "id": "9f7dadcc-b5ce-463e-a1f8-28e158b25344",
   "metadata": {},
   "source": [
    "## Codificação dos atributos categóricos:"
   ]
  },
  {
   "cell_type": "code",
   "execution_count": 9,
   "id": "ed977e50-2d02-43be-baeb-dd8fe86d6024",
   "metadata": {},
   "outputs": [],
   "source": [
    "# Codificação das classes:\n",
    "y = LabelEncoder().fit_transform(y)\n",
    "\n",
    "# Codificação de todos os atributos previsores como Label Encoding:\n",
    "objeto_cod = []\n",
    "\n",
    "for i in range(x.shape[1]):\n",
    "    objeto_cod.append(LabelEncoder())\n",
    "    x[:,i]= objeto_cod[-1].fit_transform(x[:,i])"
   ]
  },
  {
   "cell_type": "markdown",
   "id": "9122a3b9-d780-4ba4-b93b-21910d6c1569",
   "metadata": {},
   "source": [
    "## Split (Train - Test):"
   ]
  },
  {
   "cell_type": "code",
   "execution_count": 10,
   "id": "ce770fc4-48bb-436c-972f-8afddedb3df1",
   "metadata": {},
   "outputs": [],
   "source": [
    "x_train, x_test, y_train, y_test = train_test_split(x, y, test_size= 0.3, random_state = 0)"
   ]
  },
  {
   "cell_type": "markdown",
   "id": "353afdad-6ade-48b9-93a2-2f701771a598",
   "metadata": {},
   "source": [
    "## Modelo e Treinamento:"
   ]
  },
  {
   "cell_type": "code",
   "execution_count": 11,
   "id": "d0de572d-156e-4599-a79b-14b555b66f08",
   "metadata": {},
   "outputs": [],
   "source": [
    "# Criação dos modelos convencionais:\n",
    "lista_modelos = [GaussianNB(),\n",
    "                 DecisionTreeClassifier(),\n",
    "                 SVC(),\n",
    "                 RandomForestClassifier(n_estimators = 500),\n",
    "                 KNeighborsClassifier(n_neighbors=3)\n",
    "                ]\n",
    "for modelo in lista_modelos:\n",
    "    modelo.fit(x_train, y_train)"
   ]
  },
  {
   "cell_type": "markdown",
   "id": "4377aff3-f74d-4068-8a0d-582e7150c18d",
   "metadata": {},
   "source": [
    "## Métricas de Desempenho:"
   ]
  },
  {
   "cell_type": "code",
   "execution_count": 12,
   "id": "85e25570-5c10-4a20-9fb5-9836780258ef",
   "metadata": {},
   "outputs": [],
   "source": [
    "# Previsões: Hold-Out\n",
    "previsoes = []\n",
    "taxa_acerto = []\n",
    "for modelo in lista_modelos:\n",
    "    previsoes.append(modelo.predict(x_test))\n",
    "    taxa_acerto.append(accuracy_score(y_test, previsoes[-1]))"
   ]
  },
  {
   "cell_type": "markdown",
   "id": "44bc3361-b536-4926-912d-c85993d8b510",
   "metadata": {},
   "source": [
    "# Utilizando Redes Neurais:"
   ]
  },
  {
   "cell_type": "markdown",
   "id": "9f272651-2ebe-4f48-9e55-a261f2c6b74d",
   "metadata": {},
   "source": [
    "## Codificação One-Hot para as classes"
   ]
  },
  {
   "cell_type": "code",
   "execution_count": 13,
   "id": "9dfed5b5-57e2-42a9-87ac-eb0f579983e7",
   "metadata": {},
   "outputs": [],
   "source": [
    "# Já estava codificado como Label Encoding, mas o modelo exige One-Hot Encondig:\n",
    "onehot = OneHotEncoder(categories='auto', sparse=False)\n",
    "y = onehot.fit_transform(y.reshape(-1,1))"
   ]
  },
  {
   "cell_type": "markdown",
   "id": "7606dfb1-c400-4908-b0e4-69fda4abbf95",
   "metadata": {},
   "source": [
    "## Split"
   ]
  },
  {
   "cell_type": "code",
   "execution_count": 14,
   "id": "f9f5707c-37c6-462d-b067-cca90292c215",
   "metadata": {},
   "outputs": [],
   "source": [
    "# Divisõo:\n",
    "x_train, x_test, y_train, y_test = train_test_split(x, y, test_size= 0.3, random_state = 0)"
   ]
  },
  {
   "cell_type": "code",
   "execution_count": 15,
   "id": "4748bb96-929b-4af1-aeca-a36ad186157d",
   "metadata": {},
   "outputs": [],
   "source": [
    "# Correção exigida pelo Keras/TensorFlow:\n",
    "x_train = x_train.astype(np.float)\n",
    "y_train = y_train.astype(np.float)\n",
    "x_test = x_test.astype(np.float)\n",
    "y_test = y_test.astype(np.float)"
   ]
  },
  {
   "cell_type": "code",
   "execution_count": 16,
   "id": "3a73c821-81ff-49d0-a4eb-ba16a5a9b1b0",
   "metadata": {},
   "outputs": [
    {
     "data": {
      "text/plain": [
       "35"
      ]
     },
     "execution_count": 16,
     "metadata": {},
     "output_type": "execute_result"
    }
   ],
   "source": [
    "x.shape[1]"
   ]
  },
  {
   "cell_type": "markdown",
   "id": "c55846d8-a01e-48e4-a74e-f31f03d5527d",
   "metadata": {},
   "source": [
    "## Modelo e Treinamento"
   ]
  },
  {
   "cell_type": "code",
   "execution_count": 17,
   "id": "261f1e1a-7e5c-4747-81c6-ac4326436d17",
   "metadata": {},
   "outputs": [
    {
     "name": "stdout",
     "output_type": "stream",
     "text": [
      "Model: \"sequential\"\n",
      "_________________________________________________________________\n",
      "Layer (type)                 Output Shape              Param #   \n",
      "=================================================================\n",
      "dense (Dense)                (None, 35)                1260      \n",
      "_________________________________________________________________\n",
      "dense_1 (Dense)              (None, 19)                684       \n",
      "_________________________________________________________________\n",
      "dense_2 (Dense)              (None, 19)                380       \n",
      "=================================================================\n",
      "Total params: 2,324\n",
      "Trainable params: 2,324\n",
      "Non-trainable params: 0\n",
      "_________________________________________________________________\n"
     ]
    }
   ],
   "source": [
    "# Modelo: \n",
    "modelo_classifier = Sequential()\n",
    "modelo_classifier.add(Dense(units = 35, kernel_initializer = 'uniform', activation = 'relu', input_dim = x.shape[1] ))\n",
    "modelo_classifier.add(Dense(units = 19, kernel_initializer = 'uniform', activation = 'relu'))\n",
    "modelo_classifier.add(Dense(units = 19, kernel_initializer = 'uniform', activation = 'softmax'))\n",
    "\n",
    "#Compilação:\n",
    "modelo_classifier.compile(optimizer = 'adam', loss = 'categorical_crossentropy', metrics = ['accuracy'])\n",
    "\n",
    "# Visualização da estrutura da rede neural:\n",
    "modelo_classifier.summary()"
   ]
  },
  {
   "cell_type": "code",
   "execution_count": 18,
   "id": "e91b36f4-9887-4d88-b470-0f4fe1b1030c",
   "metadata": {},
   "outputs": [
    {
     "data": {
      "text/plain": [
       "<keras.callbacks.History at 0x1f8398dacd0>"
      ]
     },
     "execution_count": 18,
     "metadata": {},
     "output_type": "execute_result"
    }
   ],
   "source": [
    "# Treinamento:\n",
    "modelo_classifier.fit(x_train, y_train, epochs = 1000, verbose=0)"
   ]
  },
  {
   "cell_type": "markdown",
   "id": "5c06b349-a712-4203-940f-5b52df21d228",
   "metadata": {},
   "source": [
    "# Resultado Final"
   ]
  },
  {
   "cell_type": "code",
   "execution_count": 19,
   "id": "565ebb77-a8bd-4e97-9cf3-ba2a9b3fb3ba",
   "metadata": {},
   "outputs": [],
   "source": [
    "# Ajustes para apresentar um resultado mais \"limpo\":"
   ]
  },
  {
   "cell_type": "code",
   "execution_count": 20,
   "id": "8d34d800-74bc-40da-83ae-f70e079c4d1d",
   "metadata": {},
   "outputs": [],
   "source": [
    "matrix_y_test = np.empty(shape = y_test.shape[0])\n",
    "matrix_y_pred = np.empty(shape = y_test.shape[0])\n",
    "pred = modelo_classifier.predict(x_test)\n",
    "\n",
    "for i in range(pred.shape[1]):\n",
    "    matrix_y_test[i] = np.argmax(y_test[i])\n",
    "    matrix_y_pred[i] = np.argmax(pred[i])"
   ]
  },
  {
   "cell_type": "code",
   "execution_count": 21,
   "id": "2feaa9e0-e0a3-40d8-8c63-45981ab49e10",
   "metadata": {},
   "outputs": [],
   "source": [
    "matrix_y_pred = matrix_y_pred.astype(np.int)\n",
    "matrix_y_test = matrix_y_test.astype(np.int)"
   ]
  },
  {
   "cell_type": "code",
   "execution_count": 22,
   "id": "a8157f01-6541-4ce0-b800-eaf93d43ac2c",
   "metadata": {},
   "outputs": [],
   "source": [
    "previsoes.append(matrix_y_pred)\n",
    "taxa_acerto.append(accuracy_score(matrix_y_test, previsoes[-1]))"
   ]
  },
  {
   "cell_type": "code",
   "execution_count": 23,
   "id": "e54d8fa8-adbb-4cf1-8685-76f078d93ae7",
   "metadata": {},
   "outputs": [
    {
     "data": {
      "image/png": "[encoded data removed]",
      "text/plain": [
       "<Figure size 1080x360 with 1 Axes>"
      ]
     },
     "metadata": {
      "needs_background": "light"
     },
     "output_type": "display_data"
    }
   ],
   "source": [
    "models = [\"NaiveBayes\", \"Árvores de Decisão\", \"SVC\", \"RandomForest\", \"KNN\", \"Rede Neural\"]\n",
    "df_res = pd.DataFrame({\"Modelos\":models, \"TxAcerto\":taxa_acerto})\n",
    "df_res = df_res.set_index(\"Modelos\")\n",
    "grafico = df_res.TxAcerto.sort_values(ascending=False)\n",
    "\n",
    "plt.figure(figsize=(15,5))\n",
    "plt.bar(grafico.index, grafico.values)\n",
    "plt.title(\"Modelo x Taxa de Acerto\")\n",
    "plt.xticks(rotation=45)\n",
    "plt.show()"
   ]
  },
  {
   "cell_type": "code",
   "execution_count": 24,
   "id": "30164df1-b7ff-47d4-b24f-67fba5d197a1",
   "metadata": {},
   "outputs": [
    {
     "data": {
      "text/plain": [
       "Modelos\n",
       "Rede Neural           0.973684\n",
       "RandomForest          0.926316\n",
       "Árvores de Decisão    0.905263\n",
       "NaiveBayes            0.873684\n",
       "SVC                   0.800000\n",
       "KNN                   0.773684\n",
       "Name: TxAcerto, dtype: float64"
      ]
     },
     "execution_count": 24,
     "metadata": {},
     "output_type": "execute_result"
    }
   ],
   "source": [
    "grafico"
   ]
  }
 ],
 "metadata": {
  "kernelspec": {
   "display_name": "Python 3",
   "language": "python",
   "name": "python3"
  },
  "language_info": {
   "codemirror_mode": {
    "name": "ipython",
    "version": 3
   },
   "file_extension": ".py",
   "mimetype": "text/x-python",
   "name": "python",
   "nbconvert_exporter": "python",
   "pygments_lexer": "ipython3",
   "version": "3.8.8"
  }
 },
 "nbformat": 4,
 "nbformat_minor": 5
}
